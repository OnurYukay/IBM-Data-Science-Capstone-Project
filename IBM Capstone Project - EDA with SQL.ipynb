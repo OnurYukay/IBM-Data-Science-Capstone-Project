{
 "cells": [
  {
   "cell_type": "markdown",
   "id": "173cb279",
   "metadata": {},
   "source": [
    "__IMPORTING NECESSARY LIBARIES__"
   ]
  },
  {
   "cell_type": "code",
   "execution_count": 1,
   "id": "32eed85d",
   "metadata": {},
   "outputs": [],
   "source": [
    "import pandas as pd\n",
    "import numpy as np\n",
    "import matplotlib.pyplot as plt\n",
    "import seaborn as sns"
   ]
  },
  {
   "cell_type": "code",
   "execution_count": 2,
   "id": "81cddff9",
   "metadata": {},
   "outputs": [
    {
     "name": "stdout",
     "output_type": "stream",
     "text": [
      "Requirement already satisfied: ipython-sql in c:\\users\\onury\\anaconda3\\lib\\site-packages (0.4.1)\n",
      "Requirement already satisfied: sqlalchemy>=0.6.7 in c:\\users\\onury\\anaconda3\\lib\\site-packages (from ipython-sql) (1.4.39)\n",
      "Requirement already satisfied: six in c:\\users\\onury\\anaconda3\\lib\\site-packages (from ipython-sql) (1.16.0)\n",
      "Requirement already satisfied: ipython-genutils>=0.1.0 in c:\\users\\onury\\anaconda3\\lib\\site-packages (from ipython-sql) (0.2.0)\n",
      "Requirement already satisfied: ipython>=1.0 in c:\\users\\onury\\anaconda3\\lib\\site-packages (from ipython-sql) (8.10.0)\n",
      "Requirement already satisfied: prettytable<1 in c:\\users\\onury\\anaconda3\\lib\\site-packages (from ipython-sql) (0.7.2)\n",
      "Requirement already satisfied: sqlparse in c:\\users\\onury\\anaconda3\\lib\\site-packages (from ipython-sql) (0.4.3)\n",
      "Requirement already satisfied: pygments>=2.4.0 in c:\\users\\onury\\anaconda3\\lib\\site-packages (from ipython>=1.0->ipython-sql) (2.11.2)\n",
      "Requirement already satisfied: stack-data in c:\\users\\onury\\anaconda3\\lib\\site-packages (from ipython>=1.0->ipython-sql) (0.2.0)\n",
      "Requirement already satisfied: jedi>=0.16 in c:\\users\\onury\\anaconda3\\lib\\site-packages (from ipython>=1.0->ipython-sql) (0.18.1)\n",
      "Requirement already satisfied: backcall in c:\\users\\onury\\anaconda3\\lib\\site-packages (from ipython>=1.0->ipython-sql) (0.2.0)\n",
      "Requirement already satisfied: pickleshare in c:\\users\\onury\\anaconda3\\lib\\site-packages (from ipython>=1.0->ipython-sql) (0.7.5)\n",
      "Requirement already satisfied: prompt-toolkit<3.1.0,>=3.0.30 in c:\\users\\onury\\anaconda3\\lib\\site-packages (from ipython>=1.0->ipython-sql) (3.0.36)\n",
      "Requirement already satisfied: decorator in c:\\users\\onury\\anaconda3\\lib\\site-packages (from ipython>=1.0->ipython-sql) (5.1.1)\n",
      "Requirement already satisfied: colorama in c:\\users\\onury\\anaconda3\\lib\\site-packages (from ipython>=1.0->ipython-sql) (0.4.6)\n",
      "Requirement already satisfied: matplotlib-inline in c:\\users\\onury\\anaconda3\\lib\\site-packages (from ipython>=1.0->ipython-sql) (0.1.6)\n",
      "Requirement already satisfied: traitlets>=5 in c:\\users\\onury\\anaconda3\\lib\\site-packages (from ipython>=1.0->ipython-sql) (5.7.1)\n",
      "Requirement already satisfied: greenlet!=0.4.17 in c:\\users\\onury\\anaconda3\\lib\\site-packages (from sqlalchemy>=0.6.7->ipython-sql) (2.0.2)\n",
      "Requirement already satisfied: parso<0.9.0,>=0.8.0 in c:\\users\\onury\\anaconda3\\lib\\site-packages (from jedi>=0.16->ipython>=1.0->ipython-sql) (0.8.3)\n",
      "Requirement already satisfied: wcwidth in c:\\users\\onury\\anaconda3\\lib\\site-packages (from prompt-toolkit<3.1.0,>=3.0.30->ipython>=1.0->ipython-sql) (0.2.5)\n",
      "Requirement already satisfied: asttokens in c:\\users\\onury\\anaconda3\\lib\\site-packages (from stack-data->ipython>=1.0->ipython-sql) (2.0.5)\n",
      "Requirement already satisfied: executing in c:\\users\\onury\\anaconda3\\lib\\site-packages (from stack-data->ipython>=1.0->ipython-sql) (0.8.3)\n",
      "Requirement already satisfied: pure-eval in c:\\users\\onury\\anaconda3\\lib\\site-packages (from stack-data->ipython>=1.0->ipython-sql) (0.2.2)\n"
     ]
    }
   ],
   "source": [
    "!pip install ipython-sql"
   ]
  },
  {
   "cell_type": "markdown",
   "id": "c67d8225",
   "metadata": {},
   "source": [
    "__SQL EDA__"
   ]
  },
  {
   "cell_type": "code",
   "execution_count": 3,
   "id": "bd292cfe",
   "metadata": {},
   "outputs": [],
   "source": [
    "%load_ext sql"
   ]
  },
  {
   "cell_type": "code",
   "execution_count": 4,
   "id": "6932675b",
   "metadata": {},
   "outputs": [],
   "source": [
    "%sql sqlite://"
   ]
  },
  {
   "cell_type": "code",
   "execution_count": 5,
   "id": "f85a6e7c",
   "metadata": {
    "scrolled": true
   },
   "outputs": [
    {
     "name": "stdout",
     "output_type": "stream",
     "text": [
      " * sqlite://\n",
      "Done.\n",
      "1 rows affected.\n",
      "1 rows affected.\n",
      "1 rows affected.\n",
      "1 rows affected.\n",
      "1 rows affected.\n",
      "1 rows affected.\n",
      "1 rows affected.\n",
      "1 rows affected.\n",
      "1 rows affected.\n",
      "1 rows affected.\n",
      "1 rows affected.\n",
      "1 rows affected.\n",
      "1 rows affected.\n",
      "1 rows affected.\n",
      "1 rows affected.\n",
      "1 rows affected.\n",
      "1 rows affected.\n",
      "1 rows affected.\n",
      "1 rows affected.\n",
      "1 rows affected.\n",
      "1 rows affected.\n",
      "1 rows affected.\n",
      "1 rows affected.\n",
      "1 rows affected.\n",
      "1 rows affected.\n",
      "1 rows affected.\n",
      "1 rows affected.\n",
      "1 rows affected.\n",
      "1 rows affected.\n",
      "1 rows affected.\n",
      "1 rows affected.\n",
      "1 rows affected.\n",
      "1 rows affected.\n",
      "1 rows affected.\n",
      "1 rows affected.\n",
      "1 rows affected.\n",
      "1 rows affected.\n",
      "1 rows affected.\n",
      "1 rows affected.\n",
      "1 rows affected.\n",
      "1 rows affected.\n",
      "1 rows affected.\n",
      "1 rows affected.\n",
      "1 rows affected.\n",
      "1 rows affected.\n",
      "1 rows affected.\n",
      "1 rows affected.\n",
      "1 rows affected.\n",
      "1 rows affected.\n",
      "1 rows affected.\n",
      "1 rows affected.\n",
      "1 rows affected.\n",
      "1 rows affected.\n",
      "1 rows affected.\n",
      "1 rows affected.\n",
      "1 rows affected.\n",
      "1 rows affected.\n",
      "1 rows affected.\n",
      "1 rows affected.\n",
      "1 rows affected.\n",
      "1 rows affected.\n",
      "1 rows affected.\n",
      "1 rows affected.\n",
      "1 rows affected.\n",
      "1 rows affected.\n",
      "1 rows affected.\n",
      "1 rows affected.\n",
      "1 rows affected.\n",
      "1 rows affected.\n",
      "1 rows affected.\n",
      "1 rows affected.\n",
      "1 rows affected.\n",
      "1 rows affected.\n",
      "1 rows affected.\n",
      "1 rows affected.\n",
      "1 rows affected.\n",
      "1 rows affected.\n",
      "1 rows affected.\n",
      "1 rows affected.\n",
      "1 rows affected.\n",
      "1 rows affected.\n",
      "1 rows affected.\n",
      "1 rows affected.\n",
      "1 rows affected.\n",
      "1 rows affected.\n",
      "1 rows affected.\n",
      "1 rows affected.\n",
      "1 rows affected.\n",
      "1 rows affected.\n",
      "1 rows affected.\n",
      "1 rows affected.\n",
      "1 rows affected.\n",
      "1 rows affected.\n",
      "1 rows affected.\n",
      "1 rows affected.\n",
      "1 rows affected.\n",
      "1 rows affected.\n",
      "1 rows affected.\n",
      "1 rows affected.\n",
      "1 rows affected.\n",
      "1 rows affected.\n"
     ]
    },
    {
     "data": {
      "text/plain": [
       "[]"
      ]
     },
     "execution_count": 5,
     "metadata": {},
     "output_type": "execute_result"
    }
   ],
   "source": [
    "%%sql\n",
    "CREATE TABLE spacex(\n",
    "   Date             DATE  NOT NULL PRIMARY KEY\n",
    "  ,Time_UTC         VARCHAR(8) NOT NULL\n",
    "  ,Booster_Version  VARCHAR(14) NOT NULL\n",
    "  ,Launch_Site      VARCHAR(12) NOT NULL\n",
    "  ,Payload          VARCHAR(61) NOT NULL\n",
    "  ,PAYLOAD_MASS_KG_ INTEGER  NOT NULL\n",
    "  ,Orbit            VARCHAR(11) NOT NULL\n",
    "  ,Customer         VARCHAR(57) NOT NULL\n",
    "  ,Mission_Outcome  VARCHAR(32) NOT NULL\n",
    "  ,Landing_Outcome  VARCHAR(22) NOT NULL\n",
    ");\n",
    "INSERT INTO spacex(Date,Time_UTC,Booster_Version,Launch_Site,Payload,PAYLOAD_MASS_KG_,Orbit,Customer,Mission_Outcome,Landing_Outcome) VALUES ('2010-06-04','18:45:00','F9 v1.0  B0003','CCAFS LC-40','Dragon Spacecraft Qualification Unit',0,'LEO','SpaceX','Success','Failure (parachute)');\n",
    "INSERT INTO spacex(Date,Time_UTC,Booster_Version,Launch_Site,Payload,PAYLOAD_MASS_KG_,Orbit,Customer,Mission_Outcome,Landing_Outcome) VALUES ('2010-12-08','15:43:00','F9 v1.0  B0004','CCAFS LC-40','Dragon demo flight C1, two CubeSats, barrel of Brouere cheese',0,'LEO (ISS)','NASA (COTS) NRO','Success','Failure (parachute)');\n",
    "INSERT INTO spacex(Date,Time_UTC,Booster_Version,Launch_Site,Payload,PAYLOAD_MASS_KG_,Orbit,Customer,Mission_Outcome,Landing_Outcome) VALUES ('2012-05-22','7:44:00','F9 v1.0  B0005','CCAFS LC-40','Dragon demo flight C2',525,'LEO (ISS)','NASA (COTS)','Success','No attempt');\n",
    "INSERT INTO spacex(Date,Time_UTC,Booster_Version,Launch_Site,Payload,PAYLOAD_MASS_KG_,Orbit,Customer,Mission_Outcome,Landing_Outcome) VALUES ('2012-10-08','0:35:00','F9 v1.0  B0006','CCAFS LC-40','SpaceX CRS-1',500,'LEO (ISS)','NASA (CRS)','Success','No attempt');\n",
    "INSERT INTO spacex(Date,Time_UTC,Booster_Version,Launch_Site,Payload,PAYLOAD_MASS_KG_,Orbit,Customer,Mission_Outcome,Landing_Outcome) VALUES ('2013-03-01','15:10:00','F9 v1.0  B0007','CCAFS LC-40','SpaceX CRS-2',677,'LEO (ISS)','NASA (CRS)','Success','No attempt');\n",
    "INSERT INTO spacex(Date,Time_UTC,Booster_Version,Launch_Site,Payload,PAYLOAD_MASS_KG_,Orbit,Customer,Mission_Outcome,Landing_Outcome) VALUES ('2013-09-29','16:00:00','F9 v1.1  B1003','VAFB SLC-4E','CASSIOPE',500,'Polar LEO','MDA','Success','Uncontrolled (ocean)');\n",
    "INSERT INTO spacex(Date,Time_UTC,Booster_Version,Launch_Site,Payload,PAYLOAD_MASS_KG_,Orbit,Customer,Mission_Outcome,Landing_Outcome) VALUES ('2013-12-03','22:41:00','F9 v1.1','CCAFS LC-40','SES-8',3170,'GTO','SES','Success','No attempt');\n",
    "INSERT INTO spacex(Date,Time_UTC,Booster_Version,Launch_Site,Payload,PAYLOAD_MASS_KG_,Orbit,Customer,Mission_Outcome,Landing_Outcome) VALUES ('2014-01-06','22:06:00','F9 v1.1','CCAFS LC-40','Thaicom 6',3325,'GTO','Thaicom','Success','No attempt');\n",
    "INSERT INTO spacex(Date,Time_UTC,Booster_Version,Launch_Site,Payload,PAYLOAD_MASS_KG_,Orbit,Customer,Mission_Outcome,Landing_Outcome) VALUES ('2014-04-18','19:25:00','F9 v1.1','CCAFS LC-40','SpaceX CRS-3',2296,'LEO (ISS)','NASA (CRS)','Success','Controlled (ocean)');\n",
    "INSERT INTO spacex(Date,Time_UTC,Booster_Version,Launch_Site,Payload,PAYLOAD_MASS_KG_,Orbit,Customer,Mission_Outcome,Landing_Outcome) VALUES ('2014-07-14','15:15:00','F9 v1.1','CCAFS LC-40','OG2 Mission 1  6 Orbcomm-OG2 satellites',1316,'LEO','Orbcomm','Success','Controlled (ocean)');\n",
    "INSERT INTO spacex(Date,Time_UTC,Booster_Version,Launch_Site,Payload,PAYLOAD_MASS_KG_,Orbit,Customer,Mission_Outcome,Landing_Outcome) VALUES ('2014-08-05','8:00:00','F9 v1.1','CCAFS LC-40','AsiaSat 8',4535,'GTO','AsiaSat','Success','No attempt');\n",
    "INSERT INTO spacex(Date,Time_UTC,Booster_Version,Launch_Site,Payload,PAYLOAD_MASS_KG_,Orbit,Customer,Mission_Outcome,Landing_Outcome) VALUES ('2014-09-07','5:00:00','F9 v1.1 B1011','CCAFS LC-40','AsiaSat 6',4428,'GTO','AsiaSat','Success','No attempt');\n",
    "INSERT INTO spacex(Date,Time_UTC,Booster_Version,Launch_Site,Payload,PAYLOAD_MASS_KG_,Orbit,Customer,Mission_Outcome,Landing_Outcome) VALUES ('2014-09-21','5:52:00','F9 v1.1 B1010','CCAFS LC-40','SpaceX CRS-4',2216,'LEO (ISS)','NASA (CRS)','Success','Uncontrolled (ocean)');\n",
    "INSERT INTO spacex(Date,Time_UTC,Booster_Version,Launch_Site,Payload,PAYLOAD_MASS_KG_,Orbit,Customer,Mission_Outcome,Landing_Outcome) VALUES ('2015-01-10','9:47:00','F9 v1.1 B1012','CCAFS LC-40','SpaceX CRS-5',2395,'LEO (ISS)','NASA (CRS)','Success','Failure (drone ship)');\n",
    "INSERT INTO spacex(Date,Time_UTC,Booster_Version,Launch_Site,Payload,PAYLOAD_MASS_KG_,Orbit,Customer,Mission_Outcome,Landing_Outcome) VALUES ('2015-02-11','23:03:00','F9 v1.1 B1013','CCAFS LC-40','DSCOVR',570,'HEO','U.S. Air Force NASA NOAA','Success','Controlled (ocean)');\n",
    "INSERT INTO spacex(Date,Time_UTC,Booster_Version,Launch_Site,Payload,PAYLOAD_MASS_KG_,Orbit,Customer,Mission_Outcome,Landing_Outcome) VALUES ('2015-03-02','3:50:00','F9 v1.1 B1014','CCAFS LC-40','ABS-3A Eutelsat 115 West B',4159,'GTO','ABS Eutelsat','Success','No attempt');\n",
    "INSERT INTO spacex(Date,Time_UTC,Booster_Version,Launch_Site,Payload,PAYLOAD_MASS_KG_,Orbit,Customer,Mission_Outcome,Landing_Outcome) VALUES ('2015-04-14','20:10:00','F9 v1.1 B1015','CCAFS LC-40','SpaceX CRS-6',1898,'LEO (ISS)','NASA (CRS)','Success','Failure (drone ship)');\n",
    "INSERT INTO spacex(Date,Time_UTC,Booster_Version,Launch_Site,Payload,PAYLOAD_MASS_KG_,Orbit,Customer,Mission_Outcome,Landing_Outcome) VALUES ('2015-04-27','23:03:00','F9 v1.1 B1016','CCAFS LC-40','Turkmen 52 / MonacoSAT',4707,'GTO','Turkmenistan National Space Agency','Success','No attempt');\n",
    "INSERT INTO spacex(Date,Time_UTC,Booster_Version,Launch_Site,Payload,PAYLOAD_MASS_KG_,Orbit,Customer,Mission_Outcome,Landing_Outcome) VALUES ('2015-06-28','14:21:00','F9 v1.1 B1018','CCAFS LC-40','SpaceX CRS-7',1952,'LEO (ISS)','NASA (CRS)','Failure (in flight)','Precluded (drone ship)');\n",
    "INSERT INTO spacex(Date,Time_UTC,Booster_Version,Launch_Site,Payload,PAYLOAD_MASS_KG_,Orbit,Customer,Mission_Outcome,Landing_Outcome) VALUES ('2015-12-22','1:29:00','F9 FT B1019','CCAFS LC-40','OG2 Mission 2  11 Orbcomm-OG2 satellites',2034,'LEO','Orbcomm','Success','Success (ground pad)');\n",
    "INSERT INTO spacex(Date,Time_UTC,Booster_Version,Launch_Site,Payload,PAYLOAD_MASS_KG_,Orbit,Customer,Mission_Outcome,Landing_Outcome) VALUES ('2016-01-17','18:42:00','F9 v1.1 B1017','VAFB SLC-4E','Jason-3',553,'LEO','NASA (LSP) NOAA CNES','Success','Failure (drone ship)');\n",
    "INSERT INTO spacex(Date,Time_UTC,Booster_Version,Launch_Site,Payload,PAYLOAD_MASS_KG_,Orbit,Customer,Mission_Outcome,Landing_Outcome) VALUES ('2016-03-04','23:35:00','F9 FT B1020','CCAFS LC-40','SES-9',5271,'GTO','SES','Success','Failure (drone ship)');\n",
    "INSERT INTO spacex(Date,Time_UTC,Booster_Version,Launch_Site,Payload,PAYLOAD_MASS_KG_,Orbit,Customer,Mission_Outcome,Landing_Outcome) VALUES ('2016-04-08','20:43:00','F9 FT B1021.1','CCAFS LC-40','SpaceX CRS-8',3136,'LEO (ISS)','NASA (CRS)','Success','Success (drone ship)');\n",
    "INSERT INTO spacex(Date,Time_UTC,Booster_Version,Launch_Site,Payload,PAYLOAD_MASS_KG_,Orbit,Customer,Mission_Outcome,Landing_Outcome) VALUES ('2016-05-06','5:21:00','F9 FT B1022','CCAFS LC-40','JCSAT-14',4696,'GTO','SKY Perfect JSAT Group','Success','Success (drone ship)');\n",
    "INSERT INTO spacex(Date,Time_UTC,Booster_Version,Launch_Site,Payload,PAYLOAD_MASS_KG_,Orbit,Customer,Mission_Outcome,Landing_Outcome) VALUES ('2016-05-27','21:39:00','F9 FT B1023.1','CCAFS LC-40','Thaicom 8',3100,'GTO','Thaicom','Success','Success (drone ship)');\n",
    "INSERT INTO spacex(Date,Time_UTC,Booster_Version,Launch_Site,Payload,PAYLOAD_MASS_KG_,Orbit,Customer,Mission_Outcome,Landing_Outcome) VALUES ('2016-06-15','14:29:00','F9 FT B1024','CCAFS LC-40','ABS-2A Eutelsat 117 West B',3600,'GTO','ABS Eutelsat','Success','Failure (drone ship)');\n",
    "INSERT INTO spacex(Date,Time_UTC,Booster_Version,Launch_Site,Payload,PAYLOAD_MASS_KG_,Orbit,Customer,Mission_Outcome,Landing_Outcome) VALUES ('2016-07-18','4:45:00','F9 FT B1025.1','CCAFS LC-40','SpaceX CRS-9',2257,'LEO (ISS)','NASA (CRS)','Success','Success (ground pad)');\n",
    "INSERT INTO spacex(Date,Time_UTC,Booster_Version,Launch_Site,Payload,PAYLOAD_MASS_KG_,Orbit,Customer,Mission_Outcome,Landing_Outcome) VALUES ('2016-08-14','5:26:00','F9 FT B1026','CCAFS LC-40','JCSAT-16',4600,'GTO','SKY Perfect JSAT Group','Success','Success (drone ship)');\n",
    "INSERT INTO spacex(Date,Time_UTC,Booster_Version,Launch_Site,Payload,PAYLOAD_MASS_KG_,Orbit,Customer,Mission_Outcome,Landing_Outcome) VALUES ('2017-01-14','17:54:00','F9 FT B1029.1','VAFB SLC-4E','Iridium NEXT 1',9600,'Polar LEO','Iridium Communications','Success','Success (drone ship)');\n",
    "INSERT INTO spacex(Date,Time_UTC,Booster_Version,Launch_Site,Payload,PAYLOAD_MASS_KG_,Orbit,Customer,Mission_Outcome,Landing_Outcome) VALUES ('2017-02-19','14:39:00','F9 FT B1031.1','KSC LC-39A','SpaceX CRS-10',2490,'LEO (ISS)','NASA (CRS)','Success','Success (ground pad)');\n",
    "INSERT INTO spacex(Date,Time_UTC,Booster_Version,Launch_Site,Payload,PAYLOAD_MASS_KG_,Orbit,Customer,Mission_Outcome,Landing_Outcome) VALUES ('2017-03-16','6:00:00','F9 FT B1030','KSC LC-39A','EchoStar 23',5600,'GTO','EchoStar','Success','No attempt');\n",
    "INSERT INTO spacex(Date,Time_UTC,Booster_Version,Launch_Site,Payload,PAYLOAD_MASS_KG_,Orbit,Customer,Mission_Outcome,Landing_Outcome) VALUES ('2017-03-30','22:27:00','F9 FT  B1021.2','KSC LC-39A','SES-10',5300,'GTO','SES','Success','Success (drone ship)');\n",
    "INSERT INTO spacex(Date,Time_UTC,Booster_Version,Launch_Site,Payload,PAYLOAD_MASS_KG_,Orbit,Customer,Mission_Outcome,Landing_Outcome) VALUES ('2017-05-01','11:15:00','F9 FT B1032.1','KSC LC-39A','NROL-76',5300,'LEO','NRO','Success','Success (ground pad)');\n",
    "INSERT INTO spacex(Date,Time_UTC,Booster_Version,Launch_Site,Payload,PAYLOAD_MASS_KG_,Orbit,Customer,Mission_Outcome,Landing_Outcome) VALUES ('2017-05-15','23:21:00','F9 FT B1034','KSC LC-39A','Inmarsat-5 F4',6070,'GTO','Inmarsat','Success','No attempt');\n",
    "INSERT INTO spacex(Date,Time_UTC,Booster_Version,Launch_Site,Payload,PAYLOAD_MASS_KG_,Orbit,Customer,Mission_Outcome,Landing_Outcome) VALUES ('2017-06-03','21:07:00','F9 FT B1035.1','KSC LC-39A','SpaceX CRS-11',2708,'LEO (ISS)','NASA (CRS)','Success','Success (ground pad)');\n",
    "INSERT INTO spacex(Date,Time_UTC,Booster_Version,Launch_Site,Payload,PAYLOAD_MASS_KG_,Orbit,Customer,Mission_Outcome,Landing_Outcome) VALUES ('2017-06-23','19:10:00','F9 FT  B1029.2','KSC LC-39A','BulgariaSat-1',3669,'GTO','Bulsatcom','Success','Success (drone ship)');\n",
    "INSERT INTO spacex(Date,Time_UTC,Booster_Version,Launch_Site,Payload,PAYLOAD_MASS_KG_,Orbit,Customer,Mission_Outcome,Landing_Outcome) VALUES ('2017-06-25','20:25:00','F9 FT B1036.1','VAFB SLC-4E','Iridium NEXT 2',9600,'LEO','Iridium Communications','Success','Success (drone ship)');\n",
    "INSERT INTO spacex(Date,Time_UTC,Booster_Version,Launch_Site,Payload,PAYLOAD_MASS_KG_,Orbit,Customer,Mission_Outcome,Landing_Outcome) VALUES ('2017-07-05','23:38:00','F9 FT B1037','KSC LC-39A','Intelsat 35e',6761,'GTO','Intelsat','Success','No attempt');\n",
    "INSERT INTO spacex(Date,Time_UTC,Booster_Version,Launch_Site,Payload,PAYLOAD_MASS_KG_,Orbit,Customer,Mission_Outcome,Landing_Outcome) VALUES ('2017-08-14','16:31:00','F9 B4 B1039.1','KSC LC-39A','SpaceX CRS-12',3310,'LEO (ISS)','NASA (CRS)','Success','Success (ground pad)');\n",
    "INSERT INTO spacex(Date,Time_UTC,Booster_Version,Launch_Site,Payload,PAYLOAD_MASS_KG_,Orbit,Customer,Mission_Outcome,Landing_Outcome) VALUES ('2017-08-24','18:51:00','F9 FT B1038.1','VAFB SLC-4E','Formosat-5',475,'SSO','NSPO','Success','Success (drone ship)');\n",
    "INSERT INTO spacex(Date,Time_UTC,Booster_Version,Launch_Site,Payload,PAYLOAD_MASS_KG_,Orbit,Customer,Mission_Outcome,Landing_Outcome) VALUES ('2017-09-07','14:00:00','F9 B4 B1040.1','KSC LC-39A','Boeing X-37B OTV-5',4990,'LEO','U.S. Air Force','Success','Success (ground pad)');\n",
    "INSERT INTO spacex(Date,Time_UTC,Booster_Version,Launch_Site,Payload,PAYLOAD_MASS_KG_,Orbit,Customer,Mission_Outcome,Landing_Outcome) VALUES ('2017-10-09','12:37:00','F9 B4 B1041.1','VAFB SLC-4E','Iridium NEXT 3',9600,'Polar LEO','Iridium Communications','Success','Success (drone ship)');\n",
    "INSERT INTO spacex(Date,Time_UTC,Booster_Version,Launch_Site,Payload,PAYLOAD_MASS_KG_,Orbit,Customer,Mission_Outcome,Landing_Outcome) VALUES ('2017-10-11','22:53:00','F9 FT  B1031.2','KSC LC-39A','SES-11 / EchoStar 105',5200,'GTO','SES EchoStar','Success','Success (drone ship)');\n",
    "INSERT INTO spacex(Date,Time_UTC,Booster_Version,Launch_Site,Payload,PAYLOAD_MASS_KG_,Orbit,Customer,Mission_Outcome,Landing_Outcome) VALUES ('2017-10-30','19:34:00','F9 B4 B1042.1','KSC LC-39A','Koreasat 5A',3500,'GTO','KT Corporation','Success','Success (drone ship)');\n",
    "INSERT INTO spacex(Date,Time_UTC,Booster_Version,Launch_Site,Payload,PAYLOAD_MASS_KG_,Orbit,Customer,Mission_Outcome,Landing_Outcome) VALUES ('2017-12-15','15:36:00','F9 FT  B1035.2','CCAFS SLC-40','SpaceX CRS-13',2205,'LEO (ISS)','NASA (CRS)','Success','Success (ground pad)');\n",
    "INSERT INTO spacex(Date,Time_UTC,Booster_Version,Launch_Site,Payload,PAYLOAD_MASS_KG_,Orbit,Customer,Mission_Outcome,Landing_Outcome) VALUES ('2017-12-23','1:27:00','F9 FT  B1036.2','VAFB SLC-4E','Iridium NEXT 4',9600,'Polar LEO','Iridium Communications','Success','Controlled (ocean)');\n",
    "INSERT INTO spacex(Date,Time_UTC,Booster_Version,Launch_Site,Payload,PAYLOAD_MASS_KG_,Orbit,Customer,Mission_Outcome,Landing_Outcome) VALUES ('2018-01-08','1:00:00','F9 B4 B1043.1','CCAFS SLC-40','Zuma',5000,'LEO','Northrop Grumman','Success (payload status unclear)','Success (ground pad)');\n",
    "INSERT INTO spacex(Date,Time_UTC,Booster_Version,Launch_Site,Payload,PAYLOAD_MASS_KG_,Orbit,Customer,Mission_Outcome,Landing_Outcome) VALUES ('2018-01-31','21:25:00','F9 FT  B1032.2','CCAFS SLC-40','GovSat-1 / SES-16',4230,'GTO','SES','Success','Controlled (ocean)');\n",
    "INSERT INTO spacex(Date,Time_UTC,Booster_Version,Launch_Site,Payload,PAYLOAD_MASS_KG_,Orbit,Customer,Mission_Outcome,Landing_Outcome) VALUES ('2018-02-22','14:17:00','F9 FT  B1038.2','VAFB SLC-4E','Paz  Tintin A & B',2150,'SSO','Hisdesat exactEarth SpaceX','Success','No attempt');\n",
    "INSERT INTO spacex(Date,Time_UTC,Booster_Version,Launch_Site,Payload,PAYLOAD_MASS_KG_,Orbit,Customer,Mission_Outcome,Landing_Outcome) VALUES ('2018-03-06','5:33:00','F9 B4 B1044','CCAFS SLC-40','Hispasat 30W-6  PODSat',6092,'GTO','Hispasat  NovaWurks','Success','No attempt');\n",
    "INSERT INTO spacex(Date,Time_UTC,Booster_Version,Launch_Site,Payload,PAYLOAD_MASS_KG_,Orbit,Customer,Mission_Outcome,Landing_Outcome) VALUES ('2018-03-30','14:14:00','F9 B4  B1041.2','VAFB SLC-4E','Iridium NEXT 5',9600,'Polar LEO','Iridium Communications','Success','No attempt');\n",
    "INSERT INTO spacex(Date,Time_UTC,Booster_Version,Launch_Site,Payload,PAYLOAD_MASS_KG_,Orbit,Customer,Mission_Outcome,Landing_Outcome) VALUES ('2018-04-02','20:30:00','F9 B4  B1039.2','CCAFS SLC-40','SpaceX CRS-14',2647,'LEO (ISS)','NASA (CRS)','Success','No attempt');\n",
    "INSERT INTO spacex(Date,Time_UTC,Booster_Version,Launch_Site,Payload,PAYLOAD_MASS_KG_,Orbit,Customer,Mission_Outcome,Landing_Outcome) VALUES ('2018-04-18','22:51:00','F9 B4 B1045.1','CCAFS SLC-40','Transiting Exoplanet Survey Satellite (TESS)',362,'HEO','NASA (LSP)','Success','Success (drone ship)');\n",
    "INSERT INTO spacex(Date,Time_UTC,Booster_Version,Launch_Site,Payload,PAYLOAD_MASS_KG_,Orbit,Customer,Mission_Outcome,Landing_Outcome) VALUES ('2018-05-11','20:14:00','F9 B5  B1046.1','KSC LC-39A','Bangabandhu-1',3600,'GTO','Thales-Alenia/BTRC','Success','Success (drone ship)');\n",
    "INSERT INTO spacex(Date,Time_UTC,Booster_Version,Launch_Site,Payload,PAYLOAD_MASS_KG_,Orbit,Customer,Mission_Outcome,Landing_Outcome) VALUES ('2018-05-22','19:47:58','F9 B4  B1043.2','VAFB SLC-4E','Iridium NEXT 6   GRACE-FO 1, 2',6460,'Polar LEO','Iridium Communications GFZ ‚ NASA','Success','No attempt');\n",
    "INSERT INTO spacex(Date,Time_UTC,Booster_Version,Launch_Site,Payload,PAYLOAD_MASS_KG_,Orbit,Customer,Mission_Outcome,Landing_Outcome) VALUES ('2018-06-04','4:45:00','F9 B4  B1040.2','CCAFS SLC-40','SES-12',5384,'GTO','SES','Success','No attempt');\n",
    "INSERT INTO spacex(Date,Time_UTC,Booster_Version,Launch_Site,Payload,PAYLOAD_MASS_KG_,Orbit,Customer,Mission_Outcome,Landing_Outcome) VALUES ('2018-06-29','9:42:00','F9 B4 B1045.2','CCAFS SLC-40','SpaceX CRS-15',2697,'LEO (ISS)','NASA (CRS)','Success','No attempt');\n",
    "INSERT INTO spacex(Date,Time_UTC,Booster_Version,Launch_Site,Payload,PAYLOAD_MASS_KG_,Orbit,Customer,Mission_Outcome,Landing_Outcome) VALUES ('2018-07-22','5:50:00','F9 B5B1047.1','CCAFS SLC-40','Telstar 19V',7075,'GTO','Telesat','Success','Success');\n",
    "INSERT INTO spacex(Date,Time_UTC,Booster_Version,Launch_Site,Payload,PAYLOAD_MASS_KG_,Orbit,Customer,Mission_Outcome,Landing_Outcome) VALUES ('2018-07-25','11:39:00','F9 B5B1048.1','VAFB SLC-4E','Iridium NEXT-7',9600,'Polar LEO','Iridium Communications','Success','Success');\n",
    "INSERT INTO spacex(Date,Time_UTC,Booster_Version,Launch_Site,Payload,PAYLOAD_MASS_KG_,Orbit,Customer,Mission_Outcome,Landing_Outcome) VALUES ('2018-08-07','5:18:00','F9 B5 B1046.2','CCAFS SLC-40','Merah Putih',5800,'GTO','Telkom Indonesia','Success','Success');\n",
    "INSERT INTO spacex(Date,Time_UTC,Booster_Version,Launch_Site,Payload,PAYLOAD_MASS_KG_,Orbit,Customer,Mission_Outcome,Landing_Outcome) VALUES ('2018-09-10','4:45:00','F9 B5B1049.1','CCAFS SLC-40','Telstar 18V / Apstar-5C',7060,'GTO','Telesat','Success','Success');\n",
    "INSERT INTO spacex(Date,Time_UTC,Booster_Version,Launch_Site,Payload,PAYLOAD_MASS_KG_,Orbit,Customer,Mission_Outcome,Landing_Outcome) VALUES ('2018-10-08','2:22:00','F9 B5 B1048.2','VAFB SLC-4E','SAOCOM 1A',3000,'SSO','CONAE','Success','Success');\n",
    "INSERT INTO spacex(Date,Time_UTC,Booster_Version,Launch_Site,Payload,PAYLOAD_MASS_KG_,Orbit,Customer,Mission_Outcome,Landing_Outcome) VALUES ('2018-11-15','20:46:00','F9 B5 B1047.2','KSC LC-39A','Es hail 2',5300,'GTO','Es hailSat','Success','Success');\n",
    "INSERT INTO spacex(Date,Time_UTC,Booster_Version,Launch_Site,Payload,PAYLOAD_MASS_KG_,Orbit,Customer,Mission_Outcome,Landing_Outcome) VALUES ('2018-12-03','18:34:05','F9 B5 B1046.3','VAFB SLC-4E','SSO-A',4000,'SSO','Spaceflight Industries','Success','Success');\n",
    "INSERT INTO spacex(Date,Time_UTC,Booster_Version,Launch_Site,Payload,PAYLOAD_MASS_KG_,Orbit,Customer,Mission_Outcome,Landing_Outcome) VALUES ('2018-12-05','18:16:00','F9 B5B1050','CCAFS SLC-40','SpaceX CRS-16',2500,'LEO (ISS)','NASA (CRS)','Success','Failure');\n",
    "INSERT INTO spacex(Date,Time_UTC,Booster_Version,Launch_Site,Payload,PAYLOAD_MASS_KG_,Orbit,Customer,Mission_Outcome,Landing_Outcome) VALUES ('2018-12-23','13:51:00','F9 B5B1054','CCAFS SLC-40','GPS III-01',4400,'MEO','USAF','Success','No attempt');\n",
    "INSERT INTO spacex(Date,Time_UTC,Booster_Version,Launch_Site,Payload,PAYLOAD_MASS_KG_,Orbit,Customer,Mission_Outcome,Landing_Outcome) VALUES ('2019-01-11','15:31:00','F9 B5 B1049.2','VAFB SLC-4E','Iridium NEXT-8',9600,'Polar LEO','Iridium Communications','Success','Success');\n",
    "INSERT INTO spacex(Date,Time_UTC,Booster_Version,Launch_Site,Payload,PAYLOAD_MASS_KG_,Orbit,Customer,Mission_Outcome,Landing_Outcome) VALUES ('2019-02-22','1:45:00','F9 B5 B1048.3','CCAFS SLC-40','Nusantara Satu, Beresheet Moon lander, S5',4850,'GTO','PSN, SpaceIL / IAI','Success','Success');\n",
    "INSERT INTO spacex(Date,Time_UTC,Booster_Version,Launch_Site,Payload,PAYLOAD_MASS_KG_,Orbit,Customer,Mission_Outcome,Landing_Outcome) VALUES ('2019-03-02','7:49:00','F9 B5B1051.1','KSC LC-39A','Crew Dragon Demo-1, SpaceX CRS-17',12055,'LEO (ISS)','NASA (CCD)','Success','Success');\n",
    "INSERT INTO spacex(Date,Time_UTC,Booster_Version,Launch_Site,Payload,PAYLOAD_MASS_KG_,Orbit,Customer,Mission_Outcome,Landing_Outcome) VALUES ('2019-05-04','6:48:00','F9 B5B1056.1','CCAFS SLC-40','SpaceX CRS-17, Starlink v0.9',2495,'LEO (ISS)','NASA (CRS)','Success','Success');\n",
    "INSERT INTO spacex(Date,Time_UTC,Booster_Version,Launch_Site,Payload,PAYLOAD_MASS_KG_,Orbit,Customer,Mission_Outcome,Landing_Outcome) VALUES ('2019-05-24','2:30:00','F9 B5 B1049.3','CCAFS SLC-40','Starlink v0.9, RADARSAT Constellation',13620,'LEO','SpaceX','Success','Success');\n",
    "INSERT INTO spacex(Date,Time_UTC,Booster_Version,Launch_Site,Payload,PAYLOAD_MASS_KG_,Orbit,Customer,Mission_Outcome,Landing_Outcome) VALUES ('2019-06-12','14:17:00','F9 B5 B1051.2','VAFB SLC-4E','RADARSAT Constellation, SpaceX CRS-18',4200,'SSO','Canadian Space Agency (CSA)','Success','Success');\n",
    "INSERT INTO spacex(Date,Time_UTC,Booster_Version,Launch_Site,Payload,PAYLOAD_MASS_KG_,Orbit,Customer,Mission_Outcome,Landing_Outcome) VALUES ('2019-07-25','22:01:00','F9 B5 B1056.2','CCAFS SLC-40','SpaceX CRS-18, AMOS-17',2268,'LEO (ISS)','NASA (CRS)','Success','Success');\n",
    "INSERT INTO spacex(Date,Time_UTC,Booster_Version,Launch_Site,Payload,PAYLOAD_MASS_KG_,Orbit,Customer,Mission_Outcome,Landing_Outcome) VALUES ('2019-08-06','23:23:00','F9 B5 B1047.3','CCAFS SLC-40','AMOS-17, Starlink 1 v1.0',6500,'GTO','Spacecom','Success','No attempt');\n",
    "INSERT INTO spacex(Date,Time_UTC,Booster_Version,Launch_Site,Payload,PAYLOAD_MASS_KG_,Orbit,Customer,Mission_Outcome,Landing_Outcome) VALUES ('2019-11-11','14:56:00','F9 B5 B1048.4','CCAFS SLC-40','Starlink 1 v1.0, SpaceX CRS-19',15600,'LEO','SpaceX','Success','Success');\n",
    "INSERT INTO spacex(Date,Time_UTC,Booster_Version,Launch_Site,Payload,PAYLOAD_MASS_KG_,Orbit,Customer,Mission_Outcome,Landing_Outcome) VALUES ('2019-12-05','17:29:00','F9 B5B1059.1','CCAFS SLC-40','SpaceX CRS-19, JCSat-18 / Kacific 1',2617,'LEO (ISS)','NASA (CRS), Kacific 1','Success','Success');\n",
    "INSERT INTO spacex(Date,Time_UTC,Booster_Version,Launch_Site,Payload,PAYLOAD_MASS_KG_,Orbit,Customer,Mission_Outcome,Landing_Outcome) VALUES ('2019-12-17','0:10:00','F9 B5 B1056.3','CCAFS SLC-40','JCSat-18 / Kacific 1, Starlink 2 v1.0',6956,'GTO','Sky Perfect JSAT, Kacific 1','Success','Success');\n",
    "INSERT INTO spacex(Date,Time_UTC,Booster_Version,Launch_Site,Payload,PAYLOAD_MASS_KG_,Orbit,Customer,Mission_Outcome,Landing_Outcome) VALUES ('2020-01-07','2:33:00','F9 B5 B1049.4','CCAFS SLC-40','Starlink 2 v1.0, Crew Dragon in-flight abort test',15600,'LEO','SpaceX','Success','Success');\n",
    "INSERT INTO spacex(Date,Time_UTC,Booster_Version,Launch_Site,Payload,PAYLOAD_MASS_KG_,Orbit,Customer,Mission_Outcome,Landing_Outcome) VALUES ('2020-01-19','15:30:00','F9 B5 B1046.4','KSC LC-39A','Crew Dragon in-flight abort test, Starlink 3 v1.0',12050,'Sub-orbital','NASA (CTS)','Success','No attempt');\n",
    "INSERT INTO spacex(Date,Time_UTC,Booster_Version,Launch_Site,Payload,PAYLOAD_MASS_KG_,Orbit,Customer,Mission_Outcome,Landing_Outcome) VALUES ('2020-01-29','14:07:00','F9 B5 B1051.3','CCAFS SLC-40','Starlink 3 v1.0, Starlink 4 v1.0',15600,'LEO','SpaceX','Success','Success');\n",
    "INSERT INTO spacex(Date,Time_UTC,Booster_Version,Launch_Site,Payload,PAYLOAD_MASS_KG_,Orbit,Customer,Mission_Outcome,Landing_Outcome) VALUES ('2020-02-17','15:05:00','F9 B5 B1056.4','CCAFS SLC-40','Starlink 4 v1.0, SpaceX CRS-20',15600,'LEO','SpaceX','Success','Failure');\n",
    "INSERT INTO spacex(Date,Time_UTC,Booster_Version,Launch_Site,Payload,PAYLOAD_MASS_KG_,Orbit,Customer,Mission_Outcome,Landing_Outcome) VALUES ('2020-03-07','4:50:00','F9 B5 B1059.2','CCAFS SLC-40','SpaceX CRS-20, Starlink 5 v1.0',1977,'LEO (ISS)','NASA (CRS)','Success','Success');\n",
    "INSERT INTO spacex(Date,Time_UTC,Booster_Version,Launch_Site,Payload,PAYLOAD_MASS_KG_,Orbit,Customer,Mission_Outcome,Landing_Outcome) VALUES ('2020-03-18','12:16:00','F9 B5 B1048.5','KSC LC-39A','Starlink 5 v1.0, Starlink 6 v1.0',15600,'LEO','SpaceX','Success','Failure');\n",
    "INSERT INTO spacex(Date,Time_UTC,Booster_Version,Launch_Site,Payload,PAYLOAD_MASS_KG_,Orbit,Customer,Mission_Outcome,Landing_Outcome) VALUES ('2020-04-22','19:30:00','F9 B5 B1051.4','KSC LC-39A','Starlink 6 v1.0, Crew Dragon Demo-2',15600,'LEO','SpaceX','Success','Success');\n",
    "INSERT INTO spacex(Date,Time_UTC,Booster_Version,Launch_Site,Payload,PAYLOAD_MASS_KG_,Orbit,Customer,Mission_Outcome,Landing_Outcome) VALUES ('2020-05-30','19:22:00','F9 B5B1058.1','KSC LC-39A','Crew Dragon Demo-2, Starlink 7 v1.0',12530,'LEO (ISS)','NASA (CCDev)','Success','Success');\n",
    "INSERT INTO spacex(Date,Time_UTC,Booster_Version,Launch_Site,Payload,PAYLOAD_MASS_KG_,Orbit,Customer,Mission_Outcome,Landing_Outcome) VALUES ('2020-06-04','1:25:00','F9 B5 B1049.5','CCAFS SLC-40','Starlink 7 v1.0, Starlink 8 v1.0',15600,'LEO','SpaceX, Planet Labs','Success','Success');\n",
    "INSERT INTO spacex(Date,Time_UTC,Booster_Version,Launch_Site,Payload,PAYLOAD_MASS_KG_,Orbit,Customer,Mission_Outcome,Landing_Outcome) VALUES ('2020-06-13','9:21:00','F9 B5 B1059.3','CCAFS SLC-40','Starlink 8 v1.0, SkySats-16, -17, -18, GPS III-03',15410,'LEO','SpaceX, Planet Labs','Success','Success');\n",
    "INSERT INTO spacex(Date,Time_UTC,Booster_Version,Launch_Site,Payload,PAYLOAD_MASS_KG_,Orbit,Customer,Mission_Outcome,Landing_Outcome) VALUES ('2020-06-30','20:10:46','F9 B5B1060.1','CCAFS SLC-40','GPS III-03, ANASIS-II',4311,'MEO','U.S. Space Force','Success','Success');\n",
    "INSERT INTO spacex(Date,Time_UTC,Booster_Version,Launch_Site,Payload,PAYLOAD_MASS_KG_,Orbit,Customer,Mission_Outcome,Landing_Outcome) VALUES ('2020-07-20','21:30:00','F9 B5 B1058.2','CCAFS SLC-40','ANASIS-II, Starlink 9 v1.0',5500,'GTO','Republic of Korea Army, Spaceflight Industries (BlackSky)','Success','Success');\n",
    "INSERT INTO spacex(Date,Time_UTC,Booster_Version,Launch_Site,Payload,PAYLOAD_MASS_KG_,Orbit,Customer,Mission_Outcome,Landing_Outcome) VALUES ('2020-08-07','5:12:00','F9 B5 B1051.5','KSC LC-39A','Starlink 9 v1.0, SXRS-1, Starlink 10 v1.0',14932,'LEO','SpaceX, Spaceflight Industries (BlackSky), Planet Labs','Success','Success');\n",
    "INSERT INTO spacex(Date,Time_UTC,Booster_Version,Launch_Site,Payload,PAYLOAD_MASS_KG_,Orbit,Customer,Mission_Outcome,Landing_Outcome) VALUES ('2020-08-18','14:31:00','F9 B5 B1049.6','CCAFS SLC-40','Starlink 10 v1.0, SkySat-19, -20, -21, SAOCOM 1B',15440,'LEO','SpaceX, Planet Labs, PlanetIQ','Success','Success');\n",
    "INSERT INTO spacex(Date,Time_UTC,Booster_Version,Launch_Site,Payload,PAYLOAD_MASS_KG_,Orbit,Customer,Mission_Outcome,Landing_Outcome) VALUES ('2020-08-30','23:18:00','F9 B5 B1059.4','CCAFS SLC-40','SAOCOM 1B, GNOMES 1, Tyvak-0172',3130,'SSO','CONAE, PlanetIQ, SpaceX','Success','Success');\n",
    "INSERT INTO spacex(Date,Time_UTC,Booster_Version,Launch_Site,Payload,PAYLOAD_MASS_KG_,Orbit,Customer,Mission_Outcome,Landing_Outcome) VALUES ('2020-09-03','12:46:14','F9 B5 B1060.2','KSC LC-39A','Starlink 11 v1.0, Starlink 12 v1.0',15600,'LEO','SpaceX','Success','Success');\n",
    "INSERT INTO spacex(Date,Time_UTC,Booster_Version,Launch_Site,Payload,PAYLOAD_MASS_KG_,Orbit,Customer,Mission_Outcome,Landing_Outcome) VALUES ('2020-10-06','11:29:34','F9 B5 B1058.3','KSC LC-39A','Starlink 12 v1.0, Starlink 13 v1.0',15600,'LEO','SpaceX','Success','Success');\n",
    "INSERT INTO spacex(Date,Time_UTC,Booster_Version,Launch_Site,Payload,PAYLOAD_MASS_KG_,Orbit,Customer,Mission_Outcome,Landing_Outcome) VALUES ('2020-10-18','12:25:57','F9 B5 B1051.6','KSC LC-39A','Starlink 13 v1.0, Starlink 14 v1.0',15600,'LEO','SpaceX','Success','Success');\n",
    "INSERT INTO spacex(Date,Time_UTC,Booster_Version,Launch_Site,Payload,PAYLOAD_MASS_KG_,Orbit,Customer,Mission_Outcome,Landing_Outcome) VALUES ('2020-10-24','15:31:34','F9 B5 B1060.3','CCAFS SLC-40','Starlink 14 v1.0, GPS III-04',15600,'LEO','SpaceX','Success','Success');\n",
    "INSERT INTO spacex(Date,Time_UTC,Booster_Version,Launch_Site,Payload,PAYLOAD_MASS_KG_,Orbit,Customer,Mission_Outcome,Landing_Outcome) VALUES ('2020-11-05','23:24:23','F9 B5B1062.1','CCAFS SLC-40','GPS III-04 , Crew-1',4311,'MEO','USSF','Success','Success');\n",
    "INSERT INTO spacex(Date,Time_UTC,Booster_Version,Launch_Site,Payload,PAYLOAD_MASS_KG_,Orbit,Customer,Mission_Outcome,Landing_Outcome) VALUES ('2020-11-16','0:27:00','F9 B5B1061.1','KSC LC-39A','Crew-1, Sentinel-6 Michael Freilich',12500,'LEO (ISS)','NASA (CCP)','Success','Success');\n",
    "INSERT INTO spacex(Date,Time_UTC,Booster_Version,Launch_Site,Payload,PAYLOAD_MASS_KG_,Orbit,Customer,Mission_Outcome,Landing_Outcome) VALUES ('2020-11-21','17:17:08','F9 B5B1063.1','VAFB SLC-4E','Sentinel-6 Michael Freilich, Starlink 15 v1.0',1192,'LEO','NASA / NOAA / ESA / EUMETSAT','Success','Success');\n",
    "INSERT INTO spacex(Date,Time_UTC,Booster_Version,Launch_Site,Payload,PAYLOAD_MASS_KG_,Orbit,Customer,Mission_Outcome,Landing_Outcome) VALUES ('2020-11-25','2:13:00','F9 B5 B1049.7','CCAFS SLC-40','Starlink 15 v1.0, SpaceX CRS-21',15600,'LEO','SpaceX','Success','Success');\n",
    "INSERT INTO spacex(Date,Time_UTC,Booster_Version,Launch_Site,Payload,PAYLOAD_MASS_KG_,Orbit,Customer,Mission_Outcome,Landing_Outcome) VALUES ('2020-12-06','16:17:08','F9 B5 B1058.4','KSC LC-39A','SpaceX CRS-21',2972,'LEO (ISS)','NASA (CRS)','Success','Success');\n"
   ]
  },
  {
   "cell_type": "code",
   "execution_count": 6,
   "id": "d9dca681",
   "metadata": {},
   "outputs": [],
   "source": [
    "# TASK 1"
   ]
  },
  {
   "cell_type": "code",
   "execution_count": 7,
   "id": "7b1f0ca3",
   "metadata": {
    "scrolled": true
   },
   "outputs": [
    {
     "name": "stdout",
     "output_type": "stream",
     "text": [
      " * sqlite://\n",
      "Done.\n"
     ]
    },
    {
     "data": {
      "text/html": [
       "<table>\n",
       "    <tr>\n",
       "        <th>Distinct_Launch_Site</th>\n",
       "    </tr>\n",
       "    <tr>\n",
       "        <td>CCAFS LC-40</td>\n",
       "    </tr>\n",
       "    <tr>\n",
       "        <td>VAFB SLC-4E</td>\n",
       "    </tr>\n",
       "    <tr>\n",
       "        <td>KSC LC-39A</td>\n",
       "    </tr>\n",
       "    <tr>\n",
       "        <td>CCAFS SLC-40</td>\n",
       "    </tr>\n",
       "</table>"
      ],
      "text/plain": [
       "[('CCAFS LC-40',), ('VAFB SLC-4E',), ('KSC LC-39A',), ('CCAFS SLC-40',)]"
      ]
     },
     "execution_count": 7,
     "metadata": {},
     "output_type": "execute_result"
    }
   ],
   "source": [
    "%%sql \n",
    "\n",
    "SELECT \n",
    "    DISTINCT Launch_Site AS Distinct_Launch_Site \n",
    "FROM spacex"
   ]
  },
  {
   "cell_type": "code",
   "execution_count": 8,
   "id": "07f37286",
   "metadata": {},
   "outputs": [],
   "source": [
    "# TASK 2"
   ]
  },
  {
   "cell_type": "code",
   "execution_count": 9,
   "id": "bfaf803b",
   "metadata": {},
   "outputs": [
    {
     "name": "stdout",
     "output_type": "stream",
     "text": [
      " * sqlite://\n",
      "Done.\n"
     ]
    },
    {
     "data": {
      "text/html": [
       "<table>\n",
       "    <tr>\n",
       "        <th>Date</th>\n",
       "        <th>Time_UTC</th>\n",
       "        <th>Booster_Version</th>\n",
       "        <th>Launch_Site</th>\n",
       "        <th>Payload</th>\n",
       "        <th>PAYLOAD_MASS_KG_</th>\n",
       "        <th>Orbit</th>\n",
       "        <th>Customer</th>\n",
       "        <th>Mission_Outcome</th>\n",
       "        <th>Landing_Outcome</th>\n",
       "    </tr>\n",
       "    <tr>\n",
       "        <td>2010-06-04</td>\n",
       "        <td>18:45:00</td>\n",
       "        <td>F9 v1.0  B0003</td>\n",
       "        <td>CCAFS LC-40</td>\n",
       "        <td>Dragon Spacecraft Qualification Unit</td>\n",
       "        <td>0</td>\n",
       "        <td>LEO</td>\n",
       "        <td>SpaceX</td>\n",
       "        <td>Success</td>\n",
       "        <td>Failure (parachute)</td>\n",
       "    </tr>\n",
       "    <tr>\n",
       "        <td>2010-12-08</td>\n",
       "        <td>15:43:00</td>\n",
       "        <td>F9 v1.0  B0004</td>\n",
       "        <td>CCAFS LC-40</td>\n",
       "        <td>Dragon demo flight C1, two CubeSats, barrel of Brouere cheese</td>\n",
       "        <td>0</td>\n",
       "        <td>LEO (ISS)</td>\n",
       "        <td>NASA (COTS) NRO</td>\n",
       "        <td>Success</td>\n",
       "        <td>Failure (parachute)</td>\n",
       "    </tr>\n",
       "    <tr>\n",
       "        <td>2012-05-22</td>\n",
       "        <td>7:44:00</td>\n",
       "        <td>F9 v1.0  B0005</td>\n",
       "        <td>CCAFS LC-40</td>\n",
       "        <td>Dragon demo flight C2</td>\n",
       "        <td>525</td>\n",
       "        <td>LEO (ISS)</td>\n",
       "        <td>NASA (COTS)</td>\n",
       "        <td>Success</td>\n",
       "        <td>No attempt</td>\n",
       "    </tr>\n",
       "    <tr>\n",
       "        <td>2012-10-08</td>\n",
       "        <td>0:35:00</td>\n",
       "        <td>F9 v1.0  B0006</td>\n",
       "        <td>CCAFS LC-40</td>\n",
       "        <td>SpaceX CRS-1</td>\n",
       "        <td>500</td>\n",
       "        <td>LEO (ISS)</td>\n",
       "        <td>NASA (CRS)</td>\n",
       "        <td>Success</td>\n",
       "        <td>No attempt</td>\n",
       "    </tr>\n",
       "    <tr>\n",
       "        <td>2013-03-01</td>\n",
       "        <td>15:10:00</td>\n",
       "        <td>F9 v1.0  B0007</td>\n",
       "        <td>CCAFS LC-40</td>\n",
       "        <td>SpaceX CRS-2</td>\n",
       "        <td>677</td>\n",
       "        <td>LEO (ISS)</td>\n",
       "        <td>NASA (CRS)</td>\n",
       "        <td>Success</td>\n",
       "        <td>No attempt</td>\n",
       "    </tr>\n",
       "</table>"
      ],
      "text/plain": [
       "[('2010-06-04', '18:45:00', 'F9 v1.0  B0003', 'CCAFS LC-40', 'Dragon Spacecraft Qualification Unit', 0, 'LEO', 'SpaceX', 'Success', 'Failure (parachute)'),\n",
       " ('2010-12-08', '15:43:00', 'F9 v1.0  B0004', 'CCAFS LC-40', 'Dragon demo flight C1, two CubeSats, barrel of Brouere cheese', 0, 'LEO (ISS)', 'NASA (COTS) NRO', 'Success', 'Failure (parachute)'),\n",
       " ('2012-05-22', '7:44:00', 'F9 v1.0  B0005', 'CCAFS LC-40', 'Dragon demo flight C2', 525, 'LEO (ISS)', 'NASA (COTS)', 'Success', 'No attempt'),\n",
       " ('2012-10-08', '0:35:00', 'F9 v1.0  B0006', 'CCAFS LC-40', 'SpaceX CRS-1', 500, 'LEO (ISS)', 'NASA (CRS)', 'Success', 'No attempt'),\n",
       " ('2013-03-01', '15:10:00', 'F9 v1.0  B0007', 'CCAFS LC-40', 'SpaceX CRS-2', 677, 'LEO (ISS)', 'NASA (CRS)', 'Success', 'No attempt')]"
      ]
     },
     "execution_count": 9,
     "metadata": {},
     "output_type": "execute_result"
    }
   ],
   "source": [
    "%%sql \n",
    "\n",
    "SELECT * \n",
    "FROM spacex  \n",
    "WHERE Launch_Site LIKE 'CCA%' \n",
    "LIMIT 5"
   ]
  },
  {
   "cell_type": "code",
   "execution_count": 10,
   "id": "ef1a1d27",
   "metadata": {},
   "outputs": [],
   "source": [
    "# TASK 3"
   ]
  },
  {
   "cell_type": "code",
   "execution_count": 11,
   "id": "e67a3e43",
   "metadata": {},
   "outputs": [
    {
     "name": "stdout",
     "output_type": "stream",
     "text": [
      " * sqlite://\n",
      "Done.\n"
     ]
    },
    {
     "data": {
      "text/html": [
       "<table>\n",
       "    <tr>\n",
       "        <th>PAYLOAD_MASS_KG</th>\n",
       "    </tr>\n",
       "    <tr>\n",
       "        <td>45596</td>\n",
       "    </tr>\n",
       "</table>"
      ],
      "text/plain": [
       "[(45596,)]"
      ]
     },
     "execution_count": 11,
     "metadata": {},
     "output_type": "execute_result"
    }
   ],
   "source": [
    "%%sql \n",
    "\n",
    "SELECT \n",
    "    SUM(PAYLOAD_MASS_KG_) AS PAYLOAD_MASS_KG \n",
    "FROM spacex \n",
    "WHERE Customer = 'NASA (CRS)'"
   ]
  },
  {
   "cell_type": "code",
   "execution_count": 12,
   "id": "24fa9ccb",
   "metadata": {},
   "outputs": [],
   "source": [
    "# TASK 4"
   ]
  },
  {
   "cell_type": "code",
   "execution_count": 13,
   "id": "67099ca5",
   "metadata": {},
   "outputs": [
    {
     "name": "stdout",
     "output_type": "stream",
     "text": [
      " * sqlite://\n",
      "Done.\n"
     ]
    },
    {
     "data": {
      "text/html": [
       "<table>\n",
       "    <tr>\n",
       "        <th>AVG_MASS_KG</th>\n",
       "    </tr>\n",
       "    <tr>\n",
       "        <td>2928.4</td>\n",
       "    </tr>\n",
       "</table>"
      ],
      "text/plain": [
       "[(2928.4,)]"
      ]
     },
     "execution_count": 13,
     "metadata": {},
     "output_type": "execute_result"
    }
   ],
   "source": [
    "%%sql\n",
    "\n",
    "SELECT \n",
    "    AVG(PAYLOAD_MASS_KG_) AS AVG_MASS_KG \n",
    "FROM spacex \n",
    "WHERE Booster_Version = 'F9 v1.1'"
   ]
  },
  {
   "cell_type": "code",
   "execution_count": 14,
   "id": "f05c0b7c",
   "metadata": {},
   "outputs": [],
   "source": [
    "# TASK 5"
   ]
  },
  {
   "cell_type": "code",
   "execution_count": 15,
   "id": "50e8d87a",
   "metadata": {
    "scrolled": true
   },
   "outputs": [
    {
     "name": "stdout",
     "output_type": "stream",
     "text": [
      " * sqlite://\n",
      "Done.\n"
     ]
    },
    {
     "data": {
      "text/html": [
       "<table>\n",
       "    <tr>\n",
       "        <th>FIRST_DATE</th>\n",
       "    </tr>\n",
       "    <tr>\n",
       "        <td>2015-12-22</td>\n",
       "    </tr>\n",
       "</table>"
      ],
      "text/plain": [
       "[('2015-12-22',)]"
      ]
     },
     "execution_count": 15,
     "metadata": {},
     "output_type": "execute_result"
    }
   ],
   "source": [
    "%%sql\n",
    "\n",
    "SELECT \n",
    "    (MIN(Date)) AS FIRST_DATE \n",
    "FROM spacex \n",
    "WHERE Landing_Outcome = 'Success (ground pad)'"
   ]
  },
  {
   "cell_type": "code",
   "execution_count": 16,
   "id": "d7e8db91",
   "metadata": {},
   "outputs": [],
   "source": [
    "# TASK 6"
   ]
  },
  {
   "cell_type": "code",
   "execution_count": 17,
   "id": "9ec155e3",
   "metadata": {},
   "outputs": [
    {
     "name": "stdout",
     "output_type": "stream",
     "text": [
      " * sqlite://\n",
      "Done.\n"
     ]
    },
    {
     "data": {
      "text/html": [
       "<table>\n",
       "    <tr>\n",
       "        <th>Booster_Name</th>\n",
       "    </tr>\n",
       "    <tr>\n",
       "        <td>F9 FT B1022</td>\n",
       "    </tr>\n",
       "    <tr>\n",
       "        <td>F9 FT B1026</td>\n",
       "    </tr>\n",
       "    <tr>\n",
       "        <td>F9 FT  B1021.2</td>\n",
       "    </tr>\n",
       "    <tr>\n",
       "        <td>F9 FT  B1031.2</td>\n",
       "    </tr>\n",
       "</table>"
      ],
      "text/plain": [
       "[('F9 FT B1022',), ('F9 FT B1026',), ('F9 FT  B1021.2',), ('F9 FT  B1031.2',)]"
      ]
     },
     "execution_count": 17,
     "metadata": {},
     "output_type": "execute_result"
    }
   ],
   "source": [
    "%%sql\n",
    "\n",
    "SELECT \n",
    "    Booster_Version AS Booster_Name \n",
    "FROM spacex \n",
    "WHERE Landing_Outcome = 'Success (drone ship)' AND PAYLOAD_MASS_KG_ BETWEEN 4000 AND 6000 "
   ]
  },
  {
   "cell_type": "code",
   "execution_count": 18,
   "id": "e8a40944",
   "metadata": {},
   "outputs": [],
   "source": [
    "# TASK 7"
   ]
  },
  {
   "cell_type": "code",
   "execution_count": 19,
   "id": "f1530ed6",
   "metadata": {},
   "outputs": [
    {
     "name": "stdout",
     "output_type": "stream",
     "text": [
      " * sqlite://\n",
      "Done.\n"
     ]
    },
    {
     "data": {
      "text/html": [
       "<table>\n",
       "    <tr>\n",
       "        <th>SUCCESS</th>\n",
       "        <th>FAILURE</th>\n",
       "    </tr>\n",
       "    <tr>\n",
       "        <td>100</td>\n",
       "        <td>1</td>\n",
       "    </tr>\n",
       "</table>"
      ],
      "text/plain": [
       "[(100, 1)]"
      ]
     },
     "execution_count": 19,
     "metadata": {},
     "output_type": "execute_result"
    }
   ],
   "source": [
    "%%sql\n",
    "\n",
    "SELECT \n",
    "    SUM(X) AS SUCCESS, \n",
    "    COUNT(1)- SUM(X) AS FAILURE \n",
    "FROM(SELECT \n",
    "         CASE \n",
    "             WHEN Mission_Outcome LIKE '%Success%' \n",
    "             THEN 1 \n",
    "             ELSE 0 \n",
    "         END AS X \n",
    "     FROM spacex)"
   ]
  },
  {
   "cell_type": "code",
   "execution_count": 20,
   "id": "d6b0309a",
   "metadata": {},
   "outputs": [],
   "source": [
    "# TASK 8"
   ]
  },
  {
   "cell_type": "code",
   "execution_count": 21,
   "id": "aaf2174d",
   "metadata": {},
   "outputs": [
    {
     "name": "stdout",
     "output_type": "stream",
     "text": [
      " * sqlite://\n",
      "Done.\n"
     ]
    },
    {
     "data": {
      "text/html": [
       "<table>\n",
       "    <tr>\n",
       "        <th>Boosters_Carried_Max_Mass</th>\n",
       "    </tr>\n",
       "    <tr>\n",
       "        <td>F9 B5 B1048.4</td>\n",
       "    </tr>\n",
       "    <tr>\n",
       "        <td>F9 B5 B1049.4</td>\n",
       "    </tr>\n",
       "    <tr>\n",
       "        <td>F9 B5 B1051.3</td>\n",
       "    </tr>\n",
       "    <tr>\n",
       "        <td>F9 B5 B1056.4</td>\n",
       "    </tr>\n",
       "    <tr>\n",
       "        <td>F9 B5 B1048.5</td>\n",
       "    </tr>\n",
       "    <tr>\n",
       "        <td>F9 B5 B1051.4</td>\n",
       "    </tr>\n",
       "    <tr>\n",
       "        <td>F9 B5 B1049.5</td>\n",
       "    </tr>\n",
       "    <tr>\n",
       "        <td>F9 B5 B1060.2</td>\n",
       "    </tr>\n",
       "    <tr>\n",
       "        <td>F9 B5 B1058.3</td>\n",
       "    </tr>\n",
       "    <tr>\n",
       "        <td>F9 B5 B1051.6</td>\n",
       "    </tr>\n",
       "    <tr>\n",
       "        <td>F9 B5 B1060.3</td>\n",
       "    </tr>\n",
       "    <tr>\n",
       "        <td>F9 B5 B1049.7</td>\n",
       "    </tr>\n",
       "</table>"
      ],
      "text/plain": [
       "[('F9 B5 B1048.4',),\n",
       " ('F9 B5 B1049.4',),\n",
       " ('F9 B5 B1051.3',),\n",
       " ('F9 B5 B1056.4',),\n",
       " ('F9 B5 B1048.5',),\n",
       " ('F9 B5 B1051.4',),\n",
       " ('F9 B5 B1049.5',),\n",
       " ('F9 B5 B1060.2',),\n",
       " ('F9 B5 B1058.3',),\n",
       " ('F9 B5 B1051.6',),\n",
       " ('F9 B5 B1060.3',),\n",
       " ('F9 B5 B1049.7',)]"
      ]
     },
     "execution_count": 21,
     "metadata": {},
     "output_type": "execute_result"
    }
   ],
   "source": [
    "%%sql\n",
    "\n",
    "SELECT \n",
    "    DISTINCT Booster_Version AS Boosters_Carried_Max_Mass\n",
    "FROM spacex\n",
    "WHERE PAYLOAD_MASS_KG_ = (\n",
    "    SELECT \n",
    "        MAX(PAYLOAD_MASS_KG_) AS MAX_LOAD\n",
    "    FROM spacex\n",
    "    )"
   ]
  },
  {
   "cell_type": "code",
   "execution_count": 22,
   "id": "88bd5371",
   "metadata": {},
   "outputs": [],
   "source": [
    "# TASK 9"
   ]
  },
  {
   "cell_type": "code",
   "execution_count": 23,
   "id": "965ad5b9",
   "metadata": {},
   "outputs": [
    {
     "name": "stdout",
     "output_type": "stream",
     "text": [
      " * sqlite://\n",
      "Done.\n"
     ]
    },
    {
     "data": {
      "text/html": [
       "<table>\n",
       "    <tr>\n",
       "        <th>Booster_Version</th>\n",
       "        <th>Launch_Site</th>\n",
       "    </tr>\n",
       "    <tr>\n",
       "        <td>F9 v1.1 B1012</td>\n",
       "        <td>CCAFS LC-40</td>\n",
       "    </tr>\n",
       "    <tr>\n",
       "        <td>F9 v1.1 B1015</td>\n",
       "        <td>CCAFS LC-40</td>\n",
       "    </tr>\n",
       "</table>"
      ],
      "text/plain": [
       "[('F9 v1.1 B1012', 'CCAFS LC-40'), ('F9 v1.1 B1015', 'CCAFS LC-40')]"
      ]
     },
     "execution_count": 23,
     "metadata": {},
     "output_type": "execute_result"
    }
   ],
   "source": [
    "%%sql\n",
    "\n",
    "SELECT\n",
    "    Booster_Version,\n",
    "    Launch_Site\n",
    "FROM spacex\n",
    "WHERE Landing_Outcome = 'Failure (drone ship)' AND strftime('%Y', Date) = '2015'"
   ]
  },
  {
   "cell_type": "code",
   "execution_count": 24,
   "id": "067ba3f8",
   "metadata": {},
   "outputs": [],
   "source": [
    "# TASK 10"
   ]
  },
  {
   "cell_type": "code",
   "execution_count": 25,
   "id": "81f6399f",
   "metadata": {},
   "outputs": [
    {
     "name": "stdout",
     "output_type": "stream",
     "text": [
      " * sqlite://\n",
      "Done.\n"
     ]
    },
    {
     "data": {
      "text/html": [
       "<table>\n",
       "    <tr>\n",
       "        <th>Landing_Outcome</th>\n",
       "        <th>Occurence</th>\n",
       "    </tr>\n",
       "    <tr>\n",
       "        <td>No attempt</td>\n",
       "        <td>10</td>\n",
       "    </tr>\n",
       "    <tr>\n",
       "        <td>Success (drone ship)</td>\n",
       "        <td>5</td>\n",
       "    </tr>\n",
       "    <tr>\n",
       "        <td>Failure (drone ship)</td>\n",
       "        <td>5</td>\n",
       "    </tr>\n",
       "    <tr>\n",
       "        <td>Success (ground pad)</td>\n",
       "        <td>3</td>\n",
       "    </tr>\n",
       "    <tr>\n",
       "        <td>Controlled (ocean)</td>\n",
       "        <td>3</td>\n",
       "    </tr>\n",
       "    <tr>\n",
       "        <td>Uncontrolled (ocean)</td>\n",
       "        <td>2</td>\n",
       "    </tr>\n",
       "    <tr>\n",
       "        <td>Failure (parachute)</td>\n",
       "        <td>2</td>\n",
       "    </tr>\n",
       "    <tr>\n",
       "        <td>Precluded (drone ship)</td>\n",
       "        <td>1</td>\n",
       "    </tr>\n",
       "</table>"
      ],
      "text/plain": [
       "[('No attempt', 10),\n",
       " ('Success (drone ship)', 5),\n",
       " ('Failure (drone ship)', 5),\n",
       " ('Success (ground pad)', 3),\n",
       " ('Controlled (ocean)', 3),\n",
       " ('Uncontrolled (ocean)', 2),\n",
       " ('Failure (parachute)', 2),\n",
       " ('Precluded (drone ship)', 1)]"
      ]
     },
     "execution_count": 25,
     "metadata": {},
     "output_type": "execute_result"
    }
   ],
   "source": [
    "%%sql\n",
    "\n",
    "SELECT \n",
    "    Landing_Outcome,\n",
    "    COUNT(Landing_Outcome) AS Occurence\n",
    "FROM spacex\n",
    "WHERE Date BETWEEN '2010-06-04' AND '2017-03-20'\n",
    "GROUP BY Landing_Outcome\n",
    "ORDER BY 2 DESC"
   ]
  }
 ],
 "metadata": {
  "kernelspec": {
   "display_name": "Python 3 (ipykernel)",
   "language": "python",
   "name": "python3"
  },
  "language_info": {
   "codemirror_mode": {
    "name": "ipython",
    "version": 3
   },
   "file_extension": ".py",
   "mimetype": "text/x-python",
   "name": "python",
   "nbconvert_exporter": "python",
   "pygments_lexer": "ipython3",
   "version": "3.9.16"
  }
 },
 "nbformat": 4,
 "nbformat_minor": 5
}
